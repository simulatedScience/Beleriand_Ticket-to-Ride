{
 "cells": [
  {
   "cell_type": "code",
   "execution_count": 1,
   "metadata": {},
   "outputs": [],
   "source": [
    "%display latex"
   ]
  },
  {
   "cell_type": "code",
   "execution_count": 2,
   "metadata": {},
   "outputs": [],
   "source": [
    "A_x, A_y, B_x, B_y, C_x, C_y, D_x, D_y, alpha, beta = var(\"A_x, A_y, B_x, B_y, C_x, C_y, D_x, D_y, alpha, beta\")\n",
    "eq1 = (C_x - A_x) * sin(alpha) - (C_y - A_y) * cos(alpha) + A_x == (D_x - B_x) * sin(beta) - (D_y - B_y) * cos(beta) + B_x\n",
    "eq2 = (C_x - A_x) * cos(alpha) + (C_y - A_y) * sin(alpha) + A_y == (D_x - B_x) * cos(beta) + (D_y - B_y) * sin(beta) + B_y"
   ]
  },
  {
   "cell_type": "code",
   "execution_count": 3,
   "metadata": {},
   "outputs": [
    {
     "data": {
      "text/html": [
       "<html><script type=\"math/tex; mode=display\">\\newcommand{\\Bold}[1]{\\mathbf{#1}}{\\left(A_{y} - C_{y}\\right)} \\cos\\left(\\alpha\\right) - {\\left(A_{x} - C_{x}\\right)} \\sin\\left(\\alpha\\right) + A_{x} = {\\left(B_{y} - D_{y}\\right)} \\cos\\left(\\beta\\right) - {\\left(B_{x} - D_{x}\\right)} \\sin\\left(\\beta\\right) + B_{x}</script></html>"
      ],
      "text/latex": [
       "$$\\newcommand{\\Bold}[1]{\\mathbf{#1}}{\\left(A_{y} - C_{y}\\right)} \\cos\\left(\\alpha\\right) - {\\left(A_{x} - C_{x}\\right)} \\sin\\left(\\alpha\\right) + A_{x} = {\\left(B_{y} - D_{y}\\right)} \\cos\\left(\\beta\\right) - {\\left(B_{x} - D_{x}\\right)} \\sin\\left(\\beta\\right) + B_{x}$$"
      ],
      "text/plain": [
       "(A_y - C_y)*cos(alpha) - (A_x - C_x)*sin(alpha) + A_x == (B_y - D_y)*cos(beta) - (B_x - D_x)*sin(beta) + B_x"
      ]
     },
     "metadata": {},
     "output_type": "display_data"
    },
    {
     "data": {
      "text/html": [
       "<html><script type=\"math/tex; mode=display\">\\newcommand{\\Bold}[1]{\\mathbf{#1}}-{\\left(A_{x} - C_{x}\\right)} \\cos\\left(\\alpha\\right) - {\\left(A_{y} - C_{y}\\right)} \\sin\\left(\\alpha\\right) + A_{y} = -{\\left(B_{x} - D_{x}\\right)} \\cos\\left(\\beta\\right) - {\\left(B_{y} - D_{y}\\right)} \\sin\\left(\\beta\\right) + B_{y}</script></html>"
      ],
      "text/latex": [
       "$$\\newcommand{\\Bold}[1]{\\mathbf{#1}}-{\\left(A_{x} - C_{x}\\right)} \\cos\\left(\\alpha\\right) - {\\left(A_{y} - C_{y}\\right)} \\sin\\left(\\alpha\\right) + A_{y} = -{\\left(B_{x} - D_{x}\\right)} \\cos\\left(\\beta\\right) - {\\left(B_{y} - D_{y}\\right)} \\sin\\left(\\beta\\right) + B_{y}$$"
      ],
      "text/plain": [
       "-(A_x - C_x)*cos(alpha) - (A_y - C_y)*sin(alpha) + A_y == -(B_x - D_x)*cos(beta) - (B_y - D_y)*sin(beta) + B_y"
      ]
     },
     "metadata": {},
     "output_type": "display_data"
    }
   ],
   "source": [
    "display(eq1)\n",
    "display(eq2)"
   ]
  },
  {
   "cell_type": "code",
   "execution_count": null,
   "metadata": {},
   "outputs": [],
   "source": [
    "solve([eq1, eq2], [alpha, beta])"
   ]
  },
  {
   "cell_type": "code",
   "execution_count": null,
   "metadata": {},
   "outputs": [],
   "source": []
  }
 ],
 "metadata": {
  "kernelspec": {
   "display_name": "SageMath 9.3",
   "language": "sage",
   "name": "sagemath"
  },
  "language_info": {
   "codemirror_mode": {
    "name": "ipython",
    "version": 3
   },
   "file_extension": ".py",
   "mimetype": "text/x-python",
   "name": "python",
   "nbconvert_exporter": "python",
   "pygments_lexer": "ipython3",
   "version": "3.7.10"
  }
 },
 "nbformat": 4,
 "nbformat_minor": 4
}
